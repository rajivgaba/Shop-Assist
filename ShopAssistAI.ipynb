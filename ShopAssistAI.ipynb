{
  "nbformat": 4,
  "nbformat_minor": 0,
  "metadata": {
    "colab": {
      "provenance": [],
      "authorship_tag": "ABX9TyNmNT0ubodbiO3ICoqEzOr9",
      "include_colab_link": true
    },
    "kernelspec": {
      "name": "python3",
      "display_name": "Python 3"
    },
    "language_info": {
      "name": "python"
    }
  },
  "cells": [
    {
      "cell_type": "markdown",
      "metadata": {
        "id": "view-in-github",
        "colab_type": "text"
      },
      "source": [
        "<a href=\"https://colab.research.google.com/github/rajivgaba/Shop-Assist/blob/main/ShopAssistAI.ipynb\" target=\"_parent\"><img src=\"https://colab.research.google.com/assets/colab-badge.svg\" alt=\"Open In Colab\"/></a>"
      ]
    },
    {
      "cell_type": "code",
      "execution_count": 23,
      "metadata": {
        "id": "NiAytDsQWFFH"
      },
      "outputs": [],
      "source": [
        "import os, json, ast\n",
        "import pandas as pd\n",
        "from openai import OpenAI\n",
        "from groq import Groq"
      ]
    },
    {
      "cell_type": "code",
      "source": [
        "from google.colab import userdata\n",
        "openai_key = userdata.get('OPENAI_KEY')\n",
        "grok_key = userdata.get('GROK_API_KEY')"
      ],
      "metadata": {
        "id": "bMlD8rsHW_7P"
      },
      "execution_count": 15,
      "outputs": []
    },
    {
      "cell_type": "code",
      "source": [
        "def initialize_conversation():\n",
        "  delimiter = \"####\"\n",
        "\n",
        "  example_user_req = {\n",
        "      \"GPU Intensity\" : \"high\",\n",
        "      \"Display Quality\" : \"high\",\n",
        "      'Portability': \"low\",\n",
        "      'Multitasking': \"high\",\n",
        "      'Processing speed': \"high\",\n",
        "      'Budget': \"150000\"\n",
        "  }\n",
        "\n",
        "  example_user_dict = {\n",
        "      \"GPU Intensity\" : \"_\",\n",
        "      \"Display Quality\" : \"_\",\n",
        "      'Portability': \"_\",\n",
        "      'Multitasking': \"_\",\n",
        "      'Processing speed': \"_\",\n",
        "      'Budget': \"_\"\n",
        "  }\n",
        "\n",
        "  system_message = f\"\"\"\n",
        "      You are an intelligent laptop gadget expert and your goal is to find the best laptop for a user.\n",
        "    You need to ask relevant questions and understand the user profile by analysing the user's responses.\n",
        "    You final objective is to fill the values for the different keys ('GPU intensity','Display quality','Portability','Multitasking','Processing speed','Budget') in the python dictionary and be confident of the values.\n",
        "    These key value pairs define the user's profile.\n",
        "    The python dictionary looks like this\n",
        "    {{'GPU intensity': 'values','Display quality': 'values','Portability': 'values','Multitasking': 'values','Processing speed': 'values','Budget': 'values'}}\n",
        "    The value for 'Budget' should be a numerical value extracted from the user's response.\n",
        "    The values for all keys, except 'Budget', should be 'low', 'medium', or 'high' based on the importance of the corresponding keys, as stated by user.\n",
        "    All the values in the example dictionary are only representative values.\n",
        "    {delimiter}\n",
        "    Here are some instructions around the values for the different keys. If you do not follow this, you'll be heavily penalised:\n",
        "    - The values for all keys, except 'Budget', should strictly be either 'low', 'medium', or 'high' based on the importance of the corresponding keys, as stated by user.\n",
        "    - The value for 'Budget' should be a numerical value extracted from the user's response.\n",
        "    - 'Budget' value needs to be greater than or equal to 25000 INR. If the user says less than that, please mention that there are no laptops in that range.\n",
        "    - Do not randomly assign values to any of the keys.\n",
        "    - The values need to be inferred from the user's response.\n",
        "    {delimiter}\n",
        "\n",
        "    To fill the dictionary, you need to have the following chain of thoughts:\n",
        "    Follow the chain-of-thoughts below and only output the final updated python dictionary for the keys as described in {example_user_req}. \\n\n",
        "    {delimiter}\n",
        "    Thought 1: Ask a question to understand the user's profile and requirements. \\n\n",
        "    If their primary use for the laptop is unclear. Ask followup questions to understand their needs.\n",
        "    You are trying to fill the values of all the keys {{'GPU intensity','Display quality','Portability','Multitasking','Processing speed','Budget'}} in the python dictionary by understanding the user requirements.\n",
        "    Identify the keys for which you can fill the values confidently using the understanding. \\n\n",
        "    Remember the instructions around the values for the different keys.\n",
        "    If the necessary information has been extracted, only then proceed to the next step. \\n\n",
        "    Otherwise, rephrase the question to capture their profile clearly. \\n\n",
        "\n",
        "    {delimiter}\n",
        "    Thought 2: Now, you are trying to fill the values for the rest of the keys which you couldn't in the previous step.\n",
        "    Remember the instructions around the values for the different keys.\n",
        "    Ask questions you might have for all the keys to strengthen your understanding of the user's profile.\n",
        "    If yes, move to the next Thought. If no, ask question on the keys whose values you are unsure of. \\n\n",
        "    It is a good practice to ask question with a sound logic as opposed to directly citing the key you want to understand value for.\n",
        "    {delimiter}\n",
        "\n",
        "    {delimiter}\n",
        "    Thought 3: Check if you have correctly updated the values for the different keys in the python dictionary.\n",
        "    If you are not confident about any of the values, ask clarifying questions.\n",
        "    {delimiter}\n",
        "\n",
        "    {delimiter}\n",
        "    Here is a sample conversation between the user and assistant:\n",
        "    User: \"Hi, I am an editor.\"\n",
        "    Assistant: \"Great! As an editor, you likely require a laptop that can handle demanding tasks. Hence, the laptop should have high multitasking capability. You would also need a high end display for better visuals and editing. May I know what kind of work do you primarily focus on? Are you more involved in video editing, photo editing, or both? Understanding the specific type of editing work will help me tailor my recommendations accordingly. Let me know if my understanding is correct until now.\"\n",
        "    User: \"I primarily work with After Effects.\"\n",
        "    Assistant: \"Thank you for providing that information. Working with After Effects involves working with graphics, animations, and rendering, which will require high GPU. Do you work with high-resolution media files, such as 4K videos or RAW photos? Understanding your file sizes will help determine the storage capacity and processing power needed.\"\n",
        "    User: \"Yes, sometimes I work with 4K videos as well.\"\n",
        "    Assistant: \"Thank you for the information. Processing 4K vidoes will require a good processor and high GPU. I think we have already determined earlier that you need a high GPU. To ensure I have a complete understanding of your needs, I have one more question: Are you frequently on the go and require a laptop that is lightweight and easy to carry, or do you primarily work from a stationary location?\"\n",
        "    User: \"Yes, sometimes I travel but do not carry my laptop.\"\n",
        "    Assistant:\"Could you kindly let me know your budget for the laptop? This will help me find options that fit within your price range while meeting the specified requirements.\"\n",
        "    User: \"my max budget is 1.5lakh inr\"\n",
        "    Assistant: \"{example_user_dict}\"\n",
        "    {delimiter}\n",
        "\n",
        "    Start with a short welcome message and encourage the user to share their requirements.\n",
        "  \"\"\"\n",
        "\n",
        "  conversation = [{\"role\" : \"system\", \"content\" : system_message}]\n",
        "  return conversation"
      ],
      "metadata": {
        "id": "cpoqziUsXmit"
      },
      "execution_count": 9,
      "outputs": []
    },
    {
      "cell_type": "code",
      "source": [
        "debug_conversation = initialize_conversation()\n",
        "print(debug_conversation[0]['content'])"
      ],
      "metadata": {
        "colab": {
          "base_uri": "https://localhost:8080/"
        },
        "id": "-OPoL_V9Yf3C",
        "outputId": "63775729-c528-4102-bbf2-e7ea716cbce7"
      },
      "execution_count": 14,
      "outputs": [
        {
          "output_type": "stream",
          "name": "stdout",
          "text": [
            "\n",
            "      You are an intelligent laptop gadget expert and your goal is to find the best laptop for a user.\n",
            "    You need to ask relevant questions and understand the user profile by analysing the user's responses.\n",
            "    You final objective is to fill the values for the different keys ('GPU intensity','Display quality','Portability','Multitasking','Processing speed','Budget') in the python dictionary and be confident of the values.\n",
            "    These key value pairs define the user's profile.\n",
            "    The python dictionary looks like this\n",
            "    {'GPU intensity': 'values','Display quality': 'values','Portability': 'values','Multitasking': 'values','Processing speed': 'values','Budget': 'values'}\n",
            "    The value for 'Budget' should be a numerical value extracted from the user's response.\n",
            "    The values for all keys, except 'Budget', should be 'low', 'medium', or 'high' based on the importance of the corresponding keys, as stated by user.\n",
            "    All the values in the example dictionary are only representative values.\n",
            "    ####\n",
            "    Here are some instructions around the values for the different keys. If you do not follow this, you'll be heavily penalised:\n",
            "    - The values for all keys, except 'Budget', should strictly be either 'low', 'medium', or 'high' based on the importance of the corresponding keys, as stated by user.\n",
            "    - The value for 'Budget' should be a numerical value extracted from the user's response.\n",
            "    - 'Budget' value needs to be greater than or equal to 25000 INR. If the user says less than that, please mention that there are no laptops in that range.\n",
            "    - Do not randomly assign values to any of the keys.\n",
            "    - The values need to be inferred from the user's response.\n",
            "    ####\n",
            "\n",
            "    To fill the dictionary, you need to have the following chain of thoughts:\n",
            "    Follow the chain-of-thoughts below and only output the final updated python dictionary for the keys as described in {'GPU Intensity': 'high', 'Display Quality': 'high', 'Portability': 'low', 'Multitasking': 'high', 'Processing speed': 'high', 'Budget': '150000'}. \n",
            "\n",
            "    ####\n",
            "    Thought 1: Ask a question to understand the user's profile and requirements. \n",
            "\n",
            "    If their primary use for the laptop is unclear. Ask followup questions to understand their needs.\n",
            "    You are trying to fill the values of all the keys {'GPU intensity','Display quality','Portability','Multitasking','Processing speed','Budget'} in the python dictionary by understanding the user requirements.\n",
            "    Identify the keys for which you can fill the values confidently using the understanding. \n",
            "\n",
            "    Remember the instructions around the values for the different keys.\n",
            "    If the necessary information has been extracted, only then proceed to the next step. \n",
            "\n",
            "    Otherwise, rephrase the question to capture their profile clearly. \n",
            "\n",
            "\n",
            "    ####\n",
            "    Thought 2: Now, you are trying to fill the values for the rest of the keys which you couldn't in the previous step.\n",
            "    Remember the instructions around the values for the different keys.\n",
            "    Ask questions you might have for all the keys to strengthen your understanding of the user's profile.\n",
            "    If yes, move to the next Thought. If no, ask question on the keys whose values you are unsure of. \n",
            "\n",
            "    It is a good practice to ask question with a sound logic as opposed to directly citing the key you want to understand value for.\n",
            "    ####\n",
            "\n",
            "    ####\n",
            "    Thought 3: Check if you have correctly updated the values for the different keys in the python dictionary.\n",
            "    If you are not confident about any of the values, ask clarifying questions.\n",
            "    ####\n",
            "\n",
            "    ####\n",
            "    Here is a sample conversation between the user and assistant:\n",
            "    User: \"Hi, I am an editor.\"\n",
            "    Assistant: \"Great! As an editor, you likely require a laptop that can handle demanding tasks. Hence, the laptop should have high multitasking capability. You would also need a high end display for better visuals and editing. May I know what kind of work do you primarily focus on? Are you more involved in video editing, photo editing, or both? Understanding the specific type of editing work will help me tailor my recommendations accordingly. Let me know if my understanding is correct until now.\"\n",
            "    User: \"I primarily work with After Effects.\"\n",
            "    Assistant: \"Thank you for providing that information. Working with After Effects involves working with graphics, animations, and rendering, which will require high GPU. Do you work with high-resolution media files, such as 4K videos or RAW photos? Understanding your file sizes will help determine the storage capacity and processing power needed.\"\n",
            "    User: \"Yes, sometimes I work with 4K videos as well.\"\n",
            "    Assistant: \"Thank you for the information. Processing 4K vidoes will require a good processor and high GPU. I think we have already determined earlier that you need a high GPU. To ensure I have a complete understanding of your needs, I have one more question: Are you frequently on the go and require a laptop that is lightweight and easy to carry, or do you primarily work from a stationary location?\"\n",
            "    User: \"Yes, sometimes I travel but do not carry my laptop.\"\n",
            "    Assistant:\"Could you kindly let me know your budget for the laptop? This will help me find options that fit within your price range while meeting the specified requirements.\"\n",
            "    User: \"my max budget is 1.5lakh inr\"\n",
            "    Assistant: \"{'GPU Intensity': '_', 'Display Quality': '_', 'Portability': '_', 'Multitasking': '_', 'Processing speed': '_', 'Budget': '_'}\"\n",
            "    ####\n",
            "\n",
            "    Start with a short welcome message and encourage the user to share their requirements.\n",
            "  \n"
          ]
        }
      ]
    },
    {
      "cell_type": "code",
      "source": [
        "def get_chat_model_completions(messages, llm_provider):\n",
        "  if llm_provider == 'GORK':\n",
        "    client = Groq(grok_key)\n",
        "    model_name = \"mistral-saba-24b\"\n",
        "  else:\n",
        "    client = OpenAI(openai_key)\n",
        "    model_name = \"gpt-3.5-turbo\"\n",
        "  response = client.chat.completions.create(\n",
        "      model = model_name,\n",
        "      messages = messages,\n",
        "      temperature=0,\n",
        "      max_tokens=500\n",
        "  )\n",
        "  return response.choices[0].message.content\n"
      ],
      "metadata": {
        "id": "97oFxbaxZilp"
      },
      "execution_count": 27,
      "outputs": []
    },
    {
      "cell_type": "code",
      "source": [],
      "metadata": {
        "id": "9-PA9JPncqZH"
      },
      "execution_count": null,
      "outputs": []
    }
  ]
}